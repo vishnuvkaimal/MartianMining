{
  "nbformat": 4,
  "nbformat_minor": 0,
  "metadata": {
    "colab": {
      "name": "Martian Mining.ipynb",
      "provenance": [],
      "collapsed_sections": [],
      "authorship_tag": "ABX9TyMaQNwXr5MdRFuKx3z6iFqf"
    },
    "kernelspec": {
      "name": "python3",
      "display_name": "Python 3"
    },
    "language_info": {
      "name": "python"
    }
  },
  "cells": [
    {
      "cell_type": "code",
      "metadata": {
        "colab": {
          "base_uri": "https://localhost:8080/"
        },
        "id": "mgzlRoJ2F-QX",
        "outputId": "61cead82-bc81-4a03-b1f8-f3a54d050b50"
      },
      "source": [
        "import numpy as np\n",
        "\n",
        "ground1 = np.array( [ [[0,10,0],[0,0,0],[10,0,0],[9,0,0]] ,\n",
        "                     [[1,1,0],[3,1,0],[10,1,0],[0,30,0]] ,\n",
        "                     [[4,0,0],[2,0,0],[1,5,0],[3,5,0]] ,\n",
        "                     [[1,5,0],[1,10,0],[20,10,0],[0,10,0]] ] )\n",
        "# print(ground1)\n",
        "\n",
        "x, y=4, 4\n",
        "\n",
        "if x==0 or y==0:\n",
        "  print(\"Rectangular Area is 0, No minerals found\")\n",
        "else:\n",
        "  total=0\n",
        "\n",
        "  for i in range(x-1, -1, -1):\n",
        "    for j in range(y-1, -1, -1) :\n",
        "      if ground1[i][j][2]==0 and (ground1[i][j][0]!=0 or ground1[i][j][1]!=0):\n",
        "        a=0 # Up direction element , index 1\n",
        "        b=0 # left direction element, index 2\n",
        "\n",
        "        for x in range(i,-1,-1):\n",
        "          a=a+ground1[x][j][1]\n",
        "        for x in range(j,-1,-1):\n",
        "          b=b+ground1[i][x][0]\n",
        "\n",
        "        if a>=b:\n",
        "          total=total+a\n",
        "          for x in range(i,-1,-1):\n",
        "            ground1[x][j][2]= 1\n",
        "        else:\n",
        "          total=total+b\n",
        "          for x in range(j,-1,-1):\n",
        "            ground1[i][x][2]= 2\n",
        "\n",
        "  print(total)\n",
        "  print(ground1)\n"
      ],
      "execution_count": null,
      "outputs": [
        {
          "output_type": "stream",
          "name": "stdout",
          "text": [
            "98\n",
            "[[[ 0 10  2]\n",
            "  [ 0  0  2]\n",
            "  [10  0  2]\n",
            "  [ 9  0  1]]\n",
            "\n",
            " [[ 1  1  2]\n",
            "  [ 3  1  2]\n",
            "  [10  1  2]\n",
            "  [ 0 30  1]]\n",
            "\n",
            " [[ 4  0  2]\n",
            "  [ 2  0  2]\n",
            "  [ 1  5  2]\n",
            "  [ 3  5  1]]\n",
            "\n",
            " [[ 1  5  2]\n",
            "  [ 1 10  2]\n",
            "  [20 10  2]\n",
            "  [ 0 10  1]]]\n"
          ]
        }
      ]
    },
    {
      "cell_type": "markdown",
      "metadata": {
        "id": "qsrRbwa_3swY"
      },
      "source": [
        ""
      ]
    },
    {
      "cell_type": "code",
      "metadata": {
        "colab": {
          "base_uri": "https://localhost:8080/",
          "height": 617
        },
        "id": "LgrF8o84XJAT",
        "outputId": "8039df5e-fae4-4e09-a5e1-18565a87f561"
      },
      "source": [
        "import numpy as np\n",
        "import matplotlib.pyplot as plt\n",
        "import scipy, pylab\n",
        "\n",
        "\n",
        "ground1 = np.array( [ [[0,10,0],[0,0,0],[10,0,0],[9,0,0]] ,\n",
        "                     [[1,1,0],[3,1,0],[10,1,0],[0,30,0]] ,\n",
        "                     [[4,0,0],[2,0,0],[1,5,0],[3,5,0]] ,\n",
        "                     [[1,5,0],[1,10,0],[20,10,0],[0,10,0]] ] )\n",
        "# print(ground1)\n",
        "\n",
        "x, y=4, 4\n",
        "# print(\"here\",x,y)\n",
        "if x==0 or y==0:\n",
        "  print(\"Rectangular Area is 0, No minerals found\")\n",
        "else:\n",
        "  total=0\n",
        "\n",
        "  for i in range(x-1, -1, -1):\n",
        "    for j in range(y-1, -1, -1) :\n",
        "      if ground1[i][j][2]==0 and (ground1[i][j][0]!=0 or ground1[i][j][1]!=0):\n",
        "        a=0 # Up direction element , index 1\n",
        "        b=0 # left direction element, index 2\n",
        "\n",
        "        for x in range(i,-1,-1):\n",
        "          a=a+ground1[x][j][1]\n",
        "        for x in range(j,-1,-1):\n",
        "          b=b+ground1[i][x][0]\n",
        "\n",
        "        if a>=b:\n",
        "          total=total+a\n",
        "          for x in range(i,-1,-1):\n",
        "            ground1[x][j][2]= 1\n",
        "        else:\n",
        "          total=total+b\n",
        "          for x in range(j,-1,-1):\n",
        "            ground1[i][x][2]= 2\n",
        "\n",
        "  print(total)\n",
        "  print(ground1)\n",
        "\n",
        "# ax.annotate(\"\", xy=(0.3, 0.4), xytext=(0.3, 0.6), arrowprops=dict(arrowstyle=\"<-\"))\n",
        "x=4\n",
        "a=x\n",
        "b=y\n",
        "\n",
        "# print(x,y)\n",
        "\n",
        "plt.axes()\n",
        "\n",
        "plt.xlim([0, a+1])\n",
        "plt.ylim([0, b+1])\n",
        "plt.yticks(np.arange(0, a+1, 1))\n",
        "plt.xticks(np.arange(0, b+1, 1))\n",
        "\n",
        "\n",
        "for i in range(a-1, -1, -1):\n",
        "  for j in range(b-1, -1, -1) :\n",
        "    if ground1[i][j][2]==1:\n",
        "      plt.annotate(\"\", xy=(j+0.5, (a-i)-0.5), xytext=(j+0.5, (a-i)), arrowprops=dict(arrowstyle=\"<-\"))\n",
        "    if ground1[i][j][2]==2:\n",
        "      plt.annotate(\"\", xy=(j+0.5, (a-i)-0.5), xytext=(j, (a-i)-0.5), arrowprops=dict(arrowstyle=\"<-\"))\n",
        "plt.title(\"Lithanium\")\n",
        "\n",
        "plt.ylabel(\"Titanium\")\n",
        "\n",
        "plt.grid(True)\n",
        "\n",
        "\n",
        "plt.show()"
      ],
      "execution_count": null,
      "outputs": [
        {
          "output_type": "stream",
          "name": "stdout",
          "text": [
            "98\n",
            "[[[ 0 10  2]\n",
            "  [ 0  0  2]\n",
            "  [10  0  2]\n",
            "  [ 9  0  1]]\n",
            "\n",
            " [[ 1  1  2]\n",
            "  [ 3  1  2]\n",
            "  [10  1  2]\n",
            "  [ 0 30  1]]\n",
            "\n",
            " [[ 4  0  2]\n",
            "  [ 2  0  2]\n",
            "  [ 1  5  2]\n",
            "  [ 3  5  1]]\n",
            "\n",
            " [[ 1  5  2]\n",
            "  [ 1 10  2]\n",
            "  [20 10  2]\n",
            "  [ 0 10  1]]]\n"
          ]
        },
        {
          "output_type": "display_data",
          "data": {
            "image/png": "[encoded data removed]",
            "text/plain": [
              "<Figure size 432x288 with 1 Axes>"
            ]
          },
          "metadata": {
            "needs_background": "light"
          }
        }
      ]
    },
    {
      "cell_type": "code",
      "metadata": {
        "colab": {
          "base_uri": "https://localhost:8080/",
          "height": 350
        },
        "id": "9aaaQUHhdzjW",
        "outputId": "49f33658-86fd-4451-80bf-2ff7d59ec18b"
      },
      "source": [
        "import numpy as np\n",
        "import matplotlib.pyplot as plt\n",
        "import scipy, pylab\n",
        "\n",
        "\n",
        "# ground1 = np.array( [ [[1,2,0],[1,2,0],[1,1,0]] ,\n",
        "#                      [[1,2,0],[1,2,0],[1,1,0]]  ] )\n",
        "\n",
        "ground1 = np.array( [ [[1,2,0],[1,2,0],[1,2,0]] ] )\n",
        "\n",
        "# ground1 = np.array( [ [[0,10,0],[0,0,0],[10,0,0],[9,0,0]] ,\n",
        "#                      [[1,1,0],[3,1,0],[10,1,0],[0,30,0]] ,\n",
        "#                      [[4,0,0],[2,0,0],[1,5,0],[3,5,0]] ,\n",
        "#                      [[1,5,0],[1,10,0],[20,10,0],[0,10,0]] ] )\n",
        "\n",
        "# print(ground1)\n",
        "\n",
        "row, col=1, 3\n",
        "# print(\"here\",x,y)\n",
        "if row==0 or col==0:\n",
        "  print(\"Rectangular Area is 0, No minerals found\")\n",
        "else:\n",
        "  total=0\n",
        "  totalx=0\n",
        "  totaly=0\n",
        "\n",
        "  for i in range(row-1, -1, -1):\n",
        "    for j in range(col-1, -1, -1) :\n",
        "      if ground1[i][j][2]==0 and (ground1[i][j][0]!=0 or ground1[i][j][1]!=0):\n",
        "        a=0 # Up direction element , index 1\n",
        "        b=0 # left direction element, index 2\n",
        "\n",
        "        for x in range(i,-1,-1):\n",
        "          a=a+ground1[x][j][1]\n",
        "        for x in range(j,-1,-1):\n",
        "          b=b+ground1[i][x][0]\n",
        "\n",
        "        if a>=b:\n",
        "          total=total+a\n",
        "          for x in range(i,-1,-1):\n",
        "            ground1[x][j][2]= 1\n",
        "        else:\n",
        "          total=total+b\n",
        "          for x in range(j,-1,-1):\n",
        "            ground1[i][x][2]= 2\n",
        "\n",
        "  for i in range(row-1, -1, -1):\n",
        "    for j in range(col-1, -1, -1) :\n",
        "      totalx=totalx+ground1[i][j][0]\n",
        "      totaly=totaly+ground1[i][j][1]\n",
        "\n",
        "  # print(totalx, totaly, total)\n",
        "  max=0\n",
        "\n",
        "  if (totalx>totaly) and (totalx>total):\n",
        "    string='totalx'\n",
        "    max=totalx\n",
        "  if (totaly>totalx) and (totaly>total):\n",
        "    string='totaly'\n",
        "    max=totaly\n",
        "  if (total>totalx) and (total>totaly):\n",
        "    string='total'\n",
        "    max=total    \n",
        "\n",
        "  if string == 'totalx':\n",
        "    for i in range(row-1, -1, -1):\n",
        "      for j in range(col-1, -1, -1) :\n",
        "        ground1[i][j][2]=2\n",
        "\n",
        "  if string == 'totaly':\n",
        "    for i in range(row-1, -1, -1):\n",
        "      for j in range(col-1, -1, -1) :\n",
        "        ground1[i][j][2]=1\n",
        "\n",
        "  print(max)\n",
        "  print(ground1)\n",
        "\n",
        "# ax.annotate(\"\", xy=(0.3, 0.4), xytext=(0.3, 0.6), arrowprops=dict(arrowstyle=\"<-\"))\n",
        "x=2\n",
        "a=row\n",
        "b=col\n",
        "\n",
        "# print(x,y)\n",
        "\n",
        "plt.axes()\n",
        "\n",
        "plt.xlim([0, a+1])\n",
        "plt.ylim([0, b+1])\n",
        "plt.yticks(np.arange(0, a+1, 1))\n",
        "plt.xticks(np.arange(0, b+1, 1))\n",
        "\n",
        "\n",
        "for i in range(a-1, -1, -1):\n",
        "  for j in range(b-1, -1, -1) :\n",
        "    if ground1[i][j][2]==1:\n",
        "      plt.annotate(\"\", xy=(j+0.5, (a-i)-0.5), xytext=(j+0.5, (a-i)), arrowprops=dict(arrowstyle=\"<-\"))\n",
        "    if ground1[i][j][2]==2:\n",
        "      plt.annotate(\"\", xy=(j+0.5, (a-i)-0.5), xytext=(j, (a-i)-0.5), arrowprops=dict(arrowstyle=\"<-\"))\n",
        "plt.title(\"Lithium\")\n",
        "\n",
        "plt.ylabel(\"Titanium\")\n",
        "\n",
        "plt.grid(True)\n",
        "\n",
        "\n",
        "plt.show()"
      ],
      "execution_count": null,
      "outputs": [
        {
          "output_type": "stream",
          "name": "stdout",
          "text": [
            "6\n",
            "[[[1 2 1]\n",
            "  [1 2 1]\n",
            "  [1 2 1]]]\n"
          ]
        },
        {
          "output_type": "display_data",
          "data": {
            "image/png": "[encoded data removed]",
            "text/plain": [
              "<Figure size 432x288 with 1 Axes>"
            ]
          },
          "metadata": {
            "needs_background": "light"
          }
        }
      ]
    },
    {
      "cell_type": "markdown",
      "metadata": {
        "id": "ZdpM-593P209"
      },
      "source": [
        "text"
      ]
    },
    {
      "cell_type": "code",
      "metadata": {
        "colab": {
          "base_uri": "https://localhost:8080/",
          "height": 265
        },
        "id": "5hdFGrKj8Ea4",
        "outputId": "3f4849c7-bd3a-483a-a324-a76b33d6c450"
      },
      "source": [
        "import matplotlib.pyplot as plt\n",
        "import numpy as np\n",
        "\n",
        "x = np.array([[1, 2, 3], [4, 5, 6]], np.int32)  # length of the arrow\n",
        "y = np.array([[0.1, 0.2, 0.3], [0.4, 0.5, 0.6]], np.float)  # theta of the arrow\n",
        "u, v = x * (np.cos(y), np.sin(y))\n",
        "\n",
        "fig, ax = plt.subplots()\n",
        "q = ax.quiver(u, v)\n",
        "plt.xlim(-0.5, len(x[0]) - 0.5)\n",
        "plt.ylim(-0.5, len(x) - 0.5)\n",
        "plt.xticks(range(len(x[0])))\n",
        "plt.yticks(range(len(x)))\n",
        "\n",
        "plt.show()"
      ],
      "execution_count": null,
      "outputs": [
        {
          "output_type": "display_data",
          "data": {
            "image/png": "[encoded data removed]",
            "text/plain": [
              "<Figure size 432x288 with 1 Axes>"
            ]
          },
          "metadata": {
            "needs_background": "light"
          }
        }
      ]
    },
    {
      "cell_type": "code",
      "metadata": {
        "colab": {
          "base_uri": "https://localhost:8080/",
          "height": 269
        },
        "id": "AmMwlczI-TV4",
        "outputId": "dfd9c583-1ae2-40d9-9880-f3d94d02458f"
      },
      "source": [
        "import matplotlib.pyplot as plt\n",
        "plt.arrow(x=4, y=18, dx=0, dy=5, width=.2, facecolor='red',r)  \n",
        "plt.show()"
      ],
      "execution_count": null,
      "outputs": [
        {
          "output_type": "display_data",
          "data": {
            "image/png": "[encoded data removed]",
            "text/plain": [
              "<Figure size 432x288 with 1 Axes>"
            ]
          },
          "metadata": {
            "needs_background": "light"
          }
        }
      ]
    },
    {
      "cell_type": "code",
      "metadata": {
        "colab": {
          "base_uri": "https://localhost:8080/",
          "height": 269
        },
        "id": "wou19hel-lUq",
        "outputId": "13a2b2e6-6032-4237-d1d2-f4a2d720ddab"
      },
      "source": [
        "import pylab as P\n",
        "P.subplot(111)\n",
        "# P.arrow( x, y, dx, dy, **kwargs )\n",
        "P.arrow( 0.5, 0.8, 0, 0.1, fc=\"k\", ec=\"k\",\n",
        "head_width=0.05, head_length=0.1 )\n",
        "P.show()"
      ],
      "execution_count": null,
      "outputs": [
        {
          "output_type": "display_data",
          "data": {
            "image/png": "[encoded data removed]",
            "text/plain": [
              "<Figure size 432x288 with 1 Axes>"
            ]
          },
          "metadata": {
            "needs_background": "light"
          }
        }
      ]
    },
    {
      "cell_type": "markdown",
      "metadata": {
        "id": "yKkbMHoYLWRA"
      },
      "source": [
        "Anything below this can be ignored\n",
        "\n",
        "---\n",
        "\n",
        "It was used as rough work"
      ]
    },
    {
      "cell_type": "code",
      "metadata": {
        "colab": {
          "base_uri": "https://localhost:8080/",
          "height": 286
        },
        "id": "h-6BZUgcM1P1",
        "outputId": "ceb0181c-8c38-48b1-dde7-8c2d2326d360"
      },
      "source": [
        "import numpy as np\n",
        "import matplotlib.pyplot as ax\n",
        "\n",
        "# plt..arrow(x, y, dx, dy, **kwargs)\n",
        "\n",
        "ax.annotate(\"\", xy=(0.4, 0.4), xytext=(0.3, 0.4), arrowprops=dict(arrowstyle=\"<-\"))\n",
        "\n",
        "# ax.arrow(0.4,0.4,-0.1,0,shape=\"full\")"
      ],
      "execution_count": null,
      "outputs": [
        {
          "output_type": "execute_result",
          "data": {
            "text/plain": [
              "Text(0.3, 0.4, '')"
            ]
          },
          "metadata": {},
          "execution_count": 25
        },
        {
          "output_type": "display_data",
          "data": {
            "image/png": "[encoded data removed]",
            "text/plain": [
              "<Figure size 432x288 with 1 Axes>"
            ]
          },
          "metadata": {
            "needs_background": "light"
          }
        }
      ]
    },
    {
      "cell_type": "code",
      "metadata": {
        "colab": {
          "base_uri": "https://localhost:8080/",
          "height": 265
        },
        "id": "RjkUAhY4mygz",
        "outputId": "449e9715-b824-4814-92e2-9c01740868cb"
      },
      "source": [
        "import numpy as np\n",
        "import matplotlib.pyplot as plt\n",
        "import scipy, pylab\n",
        "\n",
        "plt.axes()\n",
        "circle=plt.Circle((0, 0), radius=1, fc='w')\n",
        "plt.gca().add_patch(circle)\n",
        "plt.xlim([0, 4])\n",
        "plt.ylim([0, 4])\n",
        "plt.yticks(np.arange(0, 4, 1))\n",
        "plt.xticks(np.arange(0, 4, 1))\n",
        "plt.show()"
      ],
      "execution_count": null,
      "outputs": [
        {
          "output_type": "display_data",
          "data": {
            "image/png": "[encoded data removed]",
            "text/plain": [
              "<Figure size 432x288 with 1 Axes>"
            ]
          },
          "metadata": {
            "needs_background": "light"
          }
        }
      ]
    },
    {
      "cell_type": "code",
      "metadata": {
        "id": "NewiMzobzx2y"
      },
      "source": [
        "import numpy as np\n",
        "\n",
        "area=np.matrix( [[0,10,0,0],[0,0,0,0],[10,0,0,0],[9,0,0,0]] , [[1,1,0,0],[3,1,0,0],[10,1,0,0],[0,30,0,0]] ,\n",
        "               [[4,0,0,0],[2,0,0,0],[1,5,0],[3,5,0]] , [[1,5,0],[1,10,0],[20,10,0],[0,10,0]] )"
      ],
      "execution_count": null,
      "outputs": []
    },
    {
      "cell_type": "code",
      "metadata": {
        "id": "ldLftloe2ZmC"
      },
      "source": [
        "ar=np.asmatrix(ground1)"
      ],
      "execution_count": null,
      "outputs": []
    },
    {
      "cell_type": "code",
      "metadata": {
        "colab": {
          "base_uri": "https://localhost:8080/"
        },
        "id": "QS6kmfjO9vou",
        "outputId": "ca7bb9d4-c0d5-448a-e8f6-ae55d58da32c"
      },
      "source": [
        "ground1.sum(axis=-3)"
      ],
      "execution_count": null,
      "outputs": [
        {
          "output_type": "execute_result",
          "data": {
            "text/plain": [
              "array([[ 6, 16,  0],\n",
              "       [ 6, 11,  0],\n",
              "       [41, 16,  0],\n",
              "       [12, 45,  0]])"
            ]
          },
          "metadata": {},
          "execution_count": 17
        }
      ]
    },
    {
      "cell_type": "code",
      "metadata": {
        "colab": {
          "base_uri": "https://localhost:8080/"
        },
        "id": "4Af_2wlHAcMV",
        "outputId": "e033d08f-4269-492f-c5f8-2a0c2b0182a8"
      },
      "source": [
        "ground1.sum(axis=-2)"
      ],
      "execution_count": null,
      "outputs": [
        {
          "output_type": "execute_result",
          "data": {
            "text/plain": [
              "array([[19, 10,  0],\n",
              "       [14, 33,  0],\n",
              "       [10, 10,  0],\n",
              "       [22, 35,  0]])"
            ]
          },
          "metadata": {},
          "execution_count": 19
        }
      ]
    },
    {
      "cell_type": "code",
      "metadata": {
        "colab": {
          "base_uri": "https://localhost:8080/"
        },
        "id": "DTpXnyRGAeeh",
        "outputId": "08dbac70-8b0d-4591-c529-d5050e1728f7"
      },
      "source": [
        "ground1.sum(axis=-1)"
      ],
      "execution_count": null,
      "outputs": [
        {
          "output_type": "execute_result",
          "data": {
            "text/plain": [
              "array([[10,  0, 10,  9],\n",
              "       [ 2,  4, 11, 30],\n",
              "       [ 4,  2,  6,  8],\n",
              "       [ 6, 11, 30, 10]])"
            ]
          },
          "metadata": {},
          "execution_count": 20
        }
      ]
    },
    {
      "cell_type": "code",
      "metadata": {
        "colab": {
          "base_uri": "https://localhost:8080/"
        },
        "id": "fyu8OKMnAKM7",
        "outputId": "1613dc30-a657-4a65-d990-83178cfe1933"
      },
      "source": [
        "ground1.sum(axis=0)"
      ],
      "execution_count": null,
      "outputs": [
        {
          "output_type": "execute_result",
          "data": {
            "text/plain": [
              "array([[ 6, 16,  0],\n",
              "       [ 6, 11,  0],\n",
              "       [41, 16,  0],\n",
              "       [12, 45,  0]])"
            ]
          },
          "metadata": {},
          "execution_count": 18
        }
      ]
    },
    {
      "cell_type": "code",
      "metadata": {
        "colab": {
          "base_uri": "https://localhost:8080/"
        },
        "id": "CWyKQKko_v8y",
        "outputId": "e498f07e-9342-4ba1-a2d2-eb3a2536a0e4"
      },
      "source": [
        "ground1.sum(axis=1)"
      ],
      "execution_count": null,
      "outputs": [
        {
          "output_type": "execute_result",
          "data": {
            "text/plain": [
              "array([[19, 10,  0],\n",
              "       [14, 33,  0],\n",
              "       [10, 10,  0],\n",
              "       [22, 35,  0]])"
            ]
          },
          "metadata": {},
          "execution_count": 16
        }
      ]
    },
    {
      "cell_type": "code",
      "metadata": {
        "colab": {
          "base_uri": "https://localhost:8080/"
        },
        "id": "fpqu9V_v-U-Z",
        "outputId": "e615d391-7d84-47e6-9de3-c6510d48e092"
      },
      "source": [
        "ground1.sum(axis=2)"
      ],
      "execution_count": null,
      "outputs": [
        {
          "output_type": "execute_result",
          "data": {
            "text/plain": [
              "array([[10,  0, 10,  9],\n",
              "       [ 2,  4, 11, 30],\n",
              "       [ 4,  2,  6,  8],\n",
              "       [ 6, 11, 30, 10]])"
            ]
          },
          "metadata": {},
          "execution_count": 12
        }
      ]
    }
  ]
}